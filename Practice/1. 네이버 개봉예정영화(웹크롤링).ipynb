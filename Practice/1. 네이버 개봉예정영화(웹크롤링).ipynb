{
 "cells": [
  {
   "cell_type": "code",
   "execution_count": 11,
   "metadata": {},
   "outputs": [],
   "source": [
    "import requests\n",
    "from bs4 import BeautifulSoup\n",
    "import pandas as pd\n",
    "import os"
   ]
  },
  {
   "cell_type": "code",
   "execution_count": 13,
   "metadata": {},
   "outputs": [],
   "source": [
    "url = 'https://movie.naver.com/movie/running/premovie.nhn'\n",
    "headers = {'User-Agent':'Mozilla/5.0 (Windows NT 10.0; Win64; x64) AppleWebKit/537.36 (KHTML, like Gecko) Chrome/91.0.4472.101 Safari/537.36'}\n",
    "\n",
    "page = requests.get(url, headers=headers).content\n",
    "soup = BeautifulSoup(page, 'lxml')\n",
    "# soup.title"
   ]
  },
  {
   "cell_type": "markdown",
   "metadata": {},
   "source": [
    "### 첫번쨰 개봉예정영화 가져오기"
   ]
  },
  {
   "cell_type": "code",
   "execution_count": 14,
   "metadata": {},
   "outputs": [
    {
     "data": {
      "text/plain": [
       "'2046'"
      ]
     },
     "execution_count": 14,
     "metadata": {},
     "output_type": "execute_result"
    }
   ],
   "source": [
    "title = soup.find('dl', class_='lst_dsc').find('a').text\n",
    "title"
   ]
  },
  {
   "cell_type": "markdown",
   "metadata": {},
   "source": [
    "### 전체 개봉예정영화 가져오기"
   ]
  },
  {
   "cell_type": "code",
   "execution_count": 15,
   "metadata": {},
   "outputs": [],
   "source": [
    "all_movie = soup.find_all('dl', class_='lst_dsc')\n",
    "\n",
    "all_title = []\n",
    "\n",
    "for i in all_movie :\n",
    "    \n",
    "    # 영화제목\n",
    "    temp_title = i.find('dt', class_='tit').find('a').text\n",
    "    all_title.append(temp_title)\n",
    "    \n",
    "    \n",
    "    \n"
   ]
  },
  {
   "cell_type": "code",
   "execution_count": 16,
   "metadata": {},
   "outputs": [
    {
     "name": "stdout",
     "output_type": "stream",
     "text": [
      "['2046', '킬러의 보디가드 2', '발신제한', '메이드 인 루프탑', '데이팅 앰버', '흩어진 밤', '뱅퀴시', '식물카페, 온정', '신해석 삼국지', '크레센도', '북샵', '진삼국무쌍', '아사다 가족', '미드나이트', '우리는 매일매일', '괴기맨숀', '다크 앤드 위키드', '더 배니싱', '레일로드 워', '블라이스 스피릿', '빛나는 순간', '열아홉', '웬디', '이보다 더 좋을 순 없다', '인 더 하이츠', '저승보다 낯선', '좀비크러쉬: 헤이리', '체르노빌 1986', '기적', '암살자들', '켈리 갱', '매직아치', '시카다 3301', '아이윌 송', '블랙 위도우', '미션 임파서블: 루벤', '트립 투 그리스', '꽃다발 같은 사랑을 했다', '더 퍼지: 포에버', '오필리아', '이스케이프 룸 2: 노 웨이 아웃', '와인 패밀리', '죽어도 좋은 경험', '극장판 짱구는 못말려: 격돌! 낙서왕국과 얼추 네 명의 용사들', '나는 나대로 혼자서 간다', '나만 보이니', '더 나이트', '랑종', '스페이스 잼: 새로운 시대', '액션히어로', '옥스포드 살인사건', '워스', '은혼 더 파이널', '이번엔 잘 되겠지', '정글 크루즈', '페이블', '피어 오브 레인', '호스트: 접속금지', '베놈 2: 렛 데어 비 카니지', '007 노 타임 투 다이', '웨스트 사이드 스토리', '모비우스', '쥬라기 월드: 도미니언', '미니언즈2']\n"
     ]
    }
   ],
   "source": [
    "print(all_title)"
   ]
  },
  {
   "cell_type": "code",
   "execution_count": 17,
   "metadata": {},
   "outputs": [
    {
     "data": {
      "text/html": [
       "<div>\n",
       "<style scoped>\n",
       "    .dataframe tbody tr th:only-of-type {\n",
       "        vertical-align: middle;\n",
       "    }\n",
       "\n",
       "    .dataframe tbody tr th {\n",
       "        vertical-align: top;\n",
       "    }\n",
       "\n",
       "    .dataframe thead th {\n",
       "        text-align: right;\n",
       "    }\n",
       "</style>\n",
       "<table border=\"1\" class=\"dataframe\">\n",
       "  <thead>\n",
       "    <tr style=\"text-align: right;\">\n",
       "      <th></th>\n",
       "      <th>title</th>\n",
       "    </tr>\n",
       "  </thead>\n",
       "  <tbody>\n",
       "    <tr>\n",
       "      <th>0</th>\n",
       "      <td>2046</td>\n",
       "    </tr>\n",
       "    <tr>\n",
       "      <th>1</th>\n",
       "      <td>킬러의 보디가드 2</td>\n",
       "    </tr>\n",
       "    <tr>\n",
       "      <th>2</th>\n",
       "      <td>발신제한</td>\n",
       "    </tr>\n",
       "    <tr>\n",
       "      <th>3</th>\n",
       "      <td>메이드 인 루프탑</td>\n",
       "    </tr>\n",
       "    <tr>\n",
       "      <th>4</th>\n",
       "      <td>데이팅 앰버</td>\n",
       "    </tr>\n",
       "  </tbody>\n",
       "</table>\n",
       "</div>"
      ],
      "text/plain": [
       "        title\n",
       "0        2046\n",
       "1  킬러의 보디가드 2\n",
       "2        발신제한\n",
       "3   메이드 인 루프탑\n",
       "4      데이팅 앰버"
      ]
     },
     "execution_count": 17,
     "metadata": {},
     "output_type": "execute_result"
    }
   ],
   "source": [
    "data_df = pd.DataFrame({'title' : all_title})\n",
    "data_df.head()"
   ]
  },
  {
   "cell_type": "code",
   "execution_count": null,
   "metadata": {},
   "outputs": [],
   "source": []
  }
 ],
 "metadata": {
  "kernelspec": {
   "display_name": "Python 3",
   "language": "python",
   "name": "python3"
  },
  "language_info": {
   "codemirror_mode": {
    "name": "ipython",
    "version": 3
   },
   "file_extension": ".py",
   "mimetype": "text/x-python",
   "name": "python",
   "nbconvert_exporter": "python",
   "pygments_lexer": "ipython3",
   "version": "3.7.3"
  }
 },
 "nbformat": 4,
 "nbformat_minor": 2
}
