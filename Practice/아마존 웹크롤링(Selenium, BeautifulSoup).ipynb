{
 "cells": [
  {
   "cell_type": "code",
   "execution_count": 21,
   "metadata": {},
   "outputs": [],
   "source": [
    "from selenium import webdriver\n",
    "from bs4 import BeautifulSoup\n",
    "import pandas as pd\n",
    "import time\n",
    "import os"
   ]
  },
  {
   "cell_type": "code",
   "execution_count": 22,
   "metadata": {},
   "outputs": [],
   "source": [
    "# 웹드라이버 준비\n",
    "driver = webdriver.Chrome('./chromedriver_90')\n",
    "## https://www.amazon.com/\n",
    "url = 'https://www.amazon.com/Fire-HD-10/dp/B07K1RZWMC/ref=sr_1_5_sspa?dchild=1&keywords=fire+hd&qid=1624253358&sr=8-5-spons&psc=1&spLa=ZW5jcnlwdGVkUXVhbGlmaWVyPUEyQlJHNzcxWUI0RUJDJmVuY3J5cHRlZElkPUEwMTg2MTgyMVZUVUpaOU5CQlhaJmVuY3J5cHRlZEFkSWQ9QTA2MTA0MDAxWVU1TzJFVDdLQTBZJndpZGdldE5hbWU9c3BfbXRmJmFjdGlvbj1jbGlja1JlZGlyZWN0JmRvTm90TG9nQ2xpY2s9dHJ1ZQ=='\n",
    "driver.get(url)"
   ]
  },
  {
   "cell_type": "code",
   "execution_count": 23,
   "metadata": {},
   "outputs": [],
   "source": [
    "# ratings 클릭하여 스크롤 다운\n",
    "sel_rate = driver.find_element_by_xpath('//*[@id=\"acrCustomerReviewText\"]')\n",
    "sel_rate.click()"
   ]
  },
  {
   "cell_type": "code",
   "execution_count": 24,
   "metadata": {},
   "outputs": [],
   "source": [
    "# 전체 리뷰페이지\n",
    "sel_review = driver.find_element_by_xpath('//*[@id=\"cr-pagination-footer-0\"]/a')\n",
    "sel_review.click()"
   ]
  },
  {
   "cell_type": "code",
   "execution_count": 59,
   "metadata": {},
   "outputs": [],
   "source": [
    "# 컬럼 리스트 준비\n",
    "review = []\n",
    "user = []\n",
    "score = []\n",
    "review_date = []\n",
    "loc = []\n",
    "helpful = []\n",
    "\n",
    "# 몇페이지까지 할지 결정\n",
    "num = 5\n",
    "\n",
    "for i in range(num) :\n",
    "    # 현재 페이지에서 리뷰리스트 선택\n",
    "    review_page = driver.page_source\n",
    "    review_soup = BeautifulSoup(review_page, 'lxml')\n",
    "    \n",
    "    review_list = review_soup.find_all('div', class_='a-section celwidget')\n",
    "    \n",
    "    # 리뷰 리스트에서 하나씩 데이터 접근\n",
    "    for j in review_list :\n",
    "        # 리뷰\n",
    "        temp_review = j.find('span', class_='a-size-base review-text review-text-content').text.strip()\n",
    "        \n",
    "        # 영상이 있을경우 필요없는 텍스트 제거\n",
    "        check = 'Your browser does not support HTML5 video.'\n",
    "        if check in temp_review :\n",
    "            # \\xa0는 ISO-8859-1로 인코딩 된 비 분리 공간입니다.\n",
    "            check_idx = temp_review.rindex('\\xa0')\n",
    "            temp_review = temp_review[check_idx + 1:]\n",
    "        review.append(temp_review)\n",
    "\n",
    "        # 사용자\n",
    "        temp_user = j.find('span', class_='a-profile-name').text\n",
    "        user.append(temp_user)\n",
    "\n",
    "        # 평점\n",
    "        temp_score = j.find('span', class_='a-icon-alt').text[:3]\n",
    "        score.append(temp_score)\n",
    "\n",
    "        # 날짜\n",
    "        temp_review_date = j.find('span', class_='a-size-base a-color-secondary review-date').text.split(' on ')[1]\n",
    "        review_date.append(temp_review_date)\n",
    "\n",
    "        # 지역\n",
    "        temp_loc = j.find('span', class_='a-size-base a-color-secondary review-date').text.split(' on ')[0][16:]\n",
    "        loc.append(temp_loc)\n",
    "\n",
    "        # 도움\n",
    "        # helpful 이 없느 경우 '0'으로 치환\n",
    "        try :\n",
    "            temp_helpful = j.find('span', class_='a-size-base a-color-tertiary cr-vote-text').text.split()[0]\n",
    "        except AttributeError :\n",
    "            temp_helpful = '0'\n",
    "        helpful.append(temp_helpful)\n",
    "        \n",
    "    # 다음페이지 버튼 클릭 후 3초 딜레이\n",
    "    next_btn = driver.find_element_by_xpath('//*[@id=\"cm_cr-pagination_bar\"]/ul/li[2]/a')\n",
    "    next_btn.click()\n",
    "    time.sleep(3)\n",
    "    \n",
    "#     print(review[-1], user[-1], score[-1], review_date[-1], loc[-1], helpful[-1])\n",
    "\n",
    "#     print(len(review), len(user), len(score), len(review_date), len(loc), len(helpful))"
   ]
  },
  {
   "cell_type": "code",
   "execution_count": 60,
   "metadata": {},
   "outputs": [
    {
     "name": "stdout",
     "output_type": "stream",
     "text": [
      "Amazon_review(Fire_HD_10_Tablet).csv 저장 완료\n"
     ]
    }
   ],
   "source": [
    "# 제품 이름으로 파일명 준비\n",
    "item_name = 'Fire_HD_10_Tablet'\n",
    "file_name = f'Amazon_review({item_name}).csv'\n",
    "\n",
    "# DataFrame 생성\n",
    "data_df = pd.DataFrame({'review' : review,\n",
    "                        'user' : user,\n",
    "                        'score' : score,\n",
    "                        'review_date' : review_date,\n",
    "                        'loc' : loc,\n",
    "                        'helpful' : helpful})\n",
    "\n",
    "# 생성된 DataFrame 확인\n",
    "data_df.head()\n",
    "\n",
    "# DataFrame -> CSV 파일로 출력\n",
    "data_df.to_csv(file_name, index=False)\n",
    "\n",
    "# 파일 저장여부 확인\n",
    "if file_name in os.listdir() :\n",
    "    print(f'{file_name} 저장 완료')\n",
    "else : \n",
    "    print(f'{file_name} 파일이 없습니다.')\n"
   ]
  },
  {
   "cell_type": "code",
   "execution_count": 20,
   "metadata": {},
   "outputs": [],
   "source": [
    "# 웹드라이버 종료\n",
    "driver.close()"
   ]
  }
 ],
 "metadata": {
  "kernelspec": {
   "display_name": "Python 3",
   "language": "python",
   "name": "python3"
  },
  "language_info": {
   "codemirror_mode": {
    "name": "ipython",
    "version": 3
   },
   "file_extension": ".py",
   "mimetype": "text/x-python",
   "name": "python",
   "nbconvert_exporter": "python",
   "pygments_lexer": "ipython3",
   "version": "3.7.3"
  }
 },
 "nbformat": 4,
 "nbformat_minor": 2
}
