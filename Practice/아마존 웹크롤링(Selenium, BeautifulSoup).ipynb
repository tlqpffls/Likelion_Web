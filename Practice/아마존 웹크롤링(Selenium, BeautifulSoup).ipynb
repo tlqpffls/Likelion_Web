{
 "cells": [
  {
   "cell_type": "code",
   "execution_count": 1,
   "metadata": {},
   "outputs": [],
   "source": [
    "from selenium import webdriver\n",
    "from bs4 import BeautifulSoup\n",
    "import pandas as pd\n",
    "import time\n",
    "import os"
   ]
  },
  {
   "cell_type": "code",
   "execution_count": 3,
   "metadata": {},
   "outputs": [],
   "source": [
    "driver = webdriver.Chrome('./chromedriver_90')\n",
    "## https://www.amazon.com/\n",
    "url = 'https://www.amazon.com/Fire-HD-10/dp/B07K1RZWMC/ref=sr_1_5_sspa?dchild=1&keywords=fire+hd&qid=1624253358&sr=8-5-spons&psc=1&spLa=ZW5jcnlwdGVkUXVhbGlmaWVyPUEyQlJHNzcxWUI0RUJDJmVuY3J5cHRlZElkPUEwMTg2MTgyMVZUVUpaOU5CQlhaJmVuY3J5cHRlZEFkSWQ9QTA2MTA0MDAxWVU1TzJFVDdLQTBZJndpZGdldE5hbWU9c3BfbXRmJmFjdGlvbj1jbGlja1JlZGlyZWN0JmRvTm90TG9nQ2xpY2s9dHJ1ZQ=='\n",
    "driver.get(url)"
   ]
  },
  {
   "cell_type": "code",
   "execution_count": 4,
   "metadata": {},
   "outputs": [],
   "source": [
    "sel_rate = driver.find_element_by_xpath('//*[@id=\"acrCustomerReviewText\"]')\n",
    "sel_rate.click()"
   ]
  },
  {
   "cell_type": "code",
   "execution_count": 5,
   "metadata": {},
   "outputs": [],
   "source": [
    "sel_review = driver.find_element_by_xpath('//*[@id=\"cr-pagination-footer-0\"]/a')\n",
    "sel_review.click()"
   ]
  },
  {
   "cell_type": "code",
   "execution_count": 6,
   "metadata": {
    "collapsed": true
   },
   "outputs": [
    {
     "name": "stdout",
     "output_type": "stream",
     "text": [
      "Update:  keep encountering other buyers realizing too late to return that the device isn't a standard android tablet.  Service is so nonexistent that they're seeking help online on message boards.  Save yourself.cannot access owned apps through playstore. Non-US customer service just says sorry, no help. The device link to get service is stuck in an endless loop redemanding entry of a phone number.They did something to make the google play store not install, even though it would on prior models.Massive bezel, and this thing weighs a relative ton.Amazon should have just ordered some Samsung tablets and loaded them with their bloatware, which they also blocked prior methods of removal.Just trying to watch youtube is a nightmare, it resizes and behaves oddly unlike any other tablet on the planet. Don't know what they did, but apparently they hate google enough to make us hate Amazon with this tablet.Returned within 24 hours after fruitless chats with supposed service.I traded in my old fire tablet and used the proceeds to buy this piece of crap, which is not just money lost since Amazon doesn't provide service on trade in money if you return the device, again according to their lousy non-US customer \"assistants\". Save yourself the headache and buy something better. mixed.blessings.choose.wisely 1.0 October 31, 2019 United States 377\n",
      "Have not set it up. I had bought the charging dock for this new tablet. Guess WHAT it does not CONNECT TO THE CHARGING DOCK. Bobo 1.0 October 30, 2019 United States 153\n",
      "I had bought a fire tablet a year or so ago. Due to the poor performance and lack of apps I returned it. Fast forward to now I tried again. I will say the tablet performed well for the price. The problem i had, with my less than a week old tablet, was with the touch screen. There was a spot on the screen that was acting like I was pressing it but nothing was touching the screen. I tried cleaning, removing from case, and every other thing I found online. Nothing worked so I contacted Amazon. After 40 min on chat they are going to send a replacement. 3 days later (when I purchased the original it showed up the next day) I get the replacement only to see that it's a remanufactured tablet. Sorry but that's not acceptable to me. I paid for a new tablet and received one that didnt work so I get sent a remanufactured one instead? No thanks! I'm sending it back even though I think it would have worked for what I wanted it for. Really disappointed in Amazon on this transaction. Dakitez 1.0 December 18, 2019 United States 75\n",
      "Prior to this, I had a Kindle Fire HD 8 (7th Generation). I traded it in once the new HD 10 was available for preorder (receiving 20% off). I am very satisfied with my purchase; however, there are a few things I need to note here.Hardware: The CPU is a MediaTek 8183. It's four Cortex-A73 and four Cortex-A53 cores running at 2.0 GHz. Performance is very solid, so much better than the previous models which were running quad-core only. The 2GB of RAM is a bit of a hurdle (it really should have been 3 GB), but the 32GB of storage with expandable card slot are great for the price. The 10\" 1080p touchscreen is good looking, but it also feels of a better quality and sensitivity than the previous models. The battery is 6300 mAh, and I find myself charging it once every 2-3 days. The USB-C port is the best upgrade Amazon made here.Software: The system is Fire OS 7. When you install apps to view system information, they claim it's a modified version of Android 9.0 Pie. Some of Pie's features are readily noticeable (clock screen on the left, a supported Picture in Picture mode, etc.) but you can also tell it's a very slimmed down experience. For example, there is no apparent multi-window support (though developer options show the option is somewhere deep in the system). The settings are also very, very slimmed down - which can make it hard to configure the tablet the way you might a stock Android tablet.App Support: It is still possible to sideload Android apps to the tablet (including Google Play), but you do so at your own risk. As with previous versions of Fire OS, not every Android app will be compatible. What concerns me, however, is that some of Amazon's own apps have performance issues despite being preloaded into Fire OS. Amazon Music, for instance, would not work the first time my tablet was set up. I had to factory reset just to make it work. Amazon's apps are also more frequently updated in the Google Play store than in Amazon's own appstore. I don't understand why they do things this way.I plan to keep this tablet for at least two years. I hope to get a lot of versatility from it. Hopefully you will as well. M. Koller 4.0 November 13, 2019 United States 42\n",
      "The tablet seems fine, but be aware, you are paying for an ad machine. There are ads on the lockscreen and throughout the device.My kids can't go 5 minutes without asking about the latest ad they saw on my lockscreen.It apparently costs an extra $15 to remove. That is Amazon holding your eyeballs hostage.I refuse to negotiate with such tactics and will be returning. I'd rather spend an extra $500 and get something tried and true. Arik 2.0 November 23, 2019 United States 35\n"
     ]
    }
   ],
   "source": [
    "review = []\n",
    "user = []\n",
    "score = []\n",
    "review_date = []\n",
    "loc = []\n",
    "helpful = []\n",
    "\n",
    "num = 5\n",
    "\n",
    "for i in range(num) :\n",
    "    review_page = driver.page_source\n",
    "    review_soup = BeautifulSoup(review_page, 'lxml')\n",
    "    \n",
    "    review_list = review_soup.find_all('div', class_='a-section celwidget')\n",
    "    \n",
    "    for j in review_list :\n",
    "        # 리뷰\n",
    "        temp_review = j.find('span', class_='a-size-base review-text review-text-content').text.strip()\n",
    "        review.append(temp_review)\n",
    "\n",
    "        # 사용자\n",
    "        temp_user = j.find('span', class_='a-profile-name').text\n",
    "        user.append(temp_user)\n",
    "\n",
    "        # 평점\n",
    "        temp_score = j.find('span', class_='a-icon-alt').text[:3]\n",
    "        score.append(temp_score)\n",
    "\n",
    "        # 날짜\n",
    "        temp_review_date = j.find('span', class_='a-size-base a-color-secondary review-date').text.split(' on ')[1]\n",
    "        review_date.append(temp_review_date)\n",
    "\n",
    "        # 지역\n",
    "        temp_loc = j.find('span', class_='a-size-base a-color-secondary review-date').text.split(' on ')[0][16:]\n",
    "        loc.append(temp_loc)\n",
    "\n",
    "        # 도움\n",
    "        try :\n",
    "            temp_helpful = j.find('span', class_='a-size-base a-color-tertiary cr-vote-text').text.split()[0]\n",
    "        except AttributeError :\n",
    "            temp_helpful = '0'\n",
    "        helpful.append(temp_helpful)\n",
    "        \n",
    "    next_btn = driver.find_element_by_xpath('//*[@id=\"cm_cr-pagination_bar\"]/ul/li[2]/a')\n",
    "    next_btn.click()\n",
    "    time.sleep(3)\n",
    "    \n",
    "#     print(review[-1], user[-1], score[-1], review_date[-1], loc[-1], helpful[-1])\n",
    "\n",
    "#     print(len(review), len(user), len(score), len(review_date), len(loc), len(helpful))"
   ]
  },
  {
   "cell_type": "code",
   "execution_count": 19,
   "metadata": {},
   "outputs": [
    {
     "name": "stdout",
     "output_type": "stream",
     "text": [
      "Amazon_review(Fire_HD_10_Tablet).csv 저장 완료\n"
     ]
    }
   ],
   "source": [
    "item_name = 'Fire_HD_10_Tablet'\n",
    "file_name = f'Amazon_review({item_name}).csv'\n",
    "\n",
    "data_df = pd.DataFrame({'review' : review,\n",
    "                        'user' : user,\n",
    "                        'score' : score,\n",
    "                        'review_date' : review_date,\n",
    "                        'loc' : loc,\n",
    "                        'helpful' : helpful})\n",
    "\n",
    "data_df.head()\n",
    "\n",
    "data_df.to_csv(file_name, index=False)\n",
    "\n",
    "if file_name in os.listdir() :\n",
    "    print(f'{file_name} 저장 완료')\n",
    "else : \n",
    "    print(f'{file_name} 파일이 없습니다.')\n"
   ]
  },
  {
   "cell_type": "code",
   "execution_count": 20,
   "metadata": {},
   "outputs": [],
   "source": [
    "driver.close()"
   ]
  },
  {
   "cell_type": "code",
   "execution_count": null,
   "metadata": {},
   "outputs": [],
   "source": []
  }
 ],
 "metadata": {
  "kernelspec": {
   "display_name": "Python 3",
   "language": "python",
   "name": "python3"
  },
  "language_info": {
   "codemirror_mode": {
    "name": "ipython",
    "version": 3
   },
   "file_extension": ".py",
   "mimetype": "text/x-python",
   "name": "python",
   "nbconvert_exporter": "python",
   "pygments_lexer": "ipython3",
   "version": "3.7.3"
  }
 },
 "nbformat": 4,
 "nbformat_minor": 2
}
