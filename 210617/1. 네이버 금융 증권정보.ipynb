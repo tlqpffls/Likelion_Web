{
 "cells": [
  {
   "cell_type": "code",
   "execution_count": 74,
   "metadata": {},
   "outputs": [],
   "source": [
    "from urllib.request import urlopen\n",
    "from bs4 import BeautifulSoup\n",
    "import pandas as pd"
   ]
  },
  {
   "cell_type": "code",
   "execution_count": 2,
   "metadata": {},
   "outputs": [],
   "source": [
    "url = \"https://finance.naver.com/sise/\""
   ]
  },
  {
   "cell_type": "code",
   "execution_count": 3,
   "metadata": {},
   "outputs": [],
   "source": [
    "page = urlopen(url)\n",
    "page\n",
    "soup = BeautifulSoup(page, \"html.parser\")"
   ]
  },
  {
   "cell_type": "code",
   "execution_count": 4,
   "metadata": {},
   "outputs": [
    {
     "name": "stdout",
     "output_type": "stream",
     "text": [
      "998.01\n",
      "3,259.48\n",
      "434.00\n"
     ]
    }
   ],
   "source": [
    "print( soup.find('span', id='KOSDAQ_now').text )  # 코스닥\n",
    "print( soup.find('span', id='KOSPI_now').text  )  # 코스닥\n",
    "print( soup.find('span', id='KPI200_now').text )  # 코스닥"
   ]
  },
  {
   "cell_type": "code",
   "execution_count": 5,
   "metadata": {},
   "outputs": [],
   "source": [
    "## 삼성전자 : 005930\n",
    "## 카카오   : 035720\n",
    "## 유한양행 : 000100"
   ]
  },
  {
   "cell_type": "code",
   "execution_count": 71,
   "metadata": {},
   "outputs": [],
   "source": [
    "my_stock = ['삼성전자', '카카오', '유한양행', 'NAVER', '쌍방울']\n",
    "my_stock_code = ['005930','035720', '000100', '035420', '102280']"
   ]
  },
  {
   "cell_type": "code",
   "execution_count": 11,
   "metadata": {},
   "outputs": [
    {
     "data": {
      "text/plain": [
       "<title>유한양행 : 네이버 금융</title>"
      ]
     },
     "execution_count": 11,
     "metadata": {},
     "output_type": "execute_result"
    }
   ],
   "source": [
    "chk_url = 'https://finance.naver.com/item/main.nhn?code=000100'\n",
    "page = urlopen(chk_url)\n",
    "soup = BeautifulSoup(page, 'lxml')\n",
    "soup.title"
   ]
  },
  {
   "cell_type": "code",
   "execution_count": 70,
   "metadata": {},
   "outputs": [],
   "source": [
    "# soup.find('table', {'class':'no_info'})"
   ]
  },
  {
   "cell_type": "code",
   "execution_count": 68,
   "metadata": {},
   "outputs": [
    {
     "data": {
      "text/plain": [
       "'63,000'"
      ]
     },
     "execution_count": 68,
     "metadata": {},
     "output_type": "execute_result"
    }
   ],
   "source": [
    "soup.find('span', class_='sp_txt5').find_next('span', class_='blind').text"
   ]
  },
  {
   "cell_type": "code",
   "execution_count": 76,
   "metadata": {},
   "outputs": [
    {
     "name": "stdout",
     "output_type": "stream",
     "text": [
      "삼성전자 63,200 124,857 63,800 63,700 63,700 63,000\n",
      "카카오 63,200 124,857 63,800 63,700 63,700 63,000\n",
      "유한양행 63,200 124,857 63,800 63,700 63,700 63,000\n",
      "NAVER 63,200 126,121 63,800 63,700 63,700 63,000\n",
      "쌍방울 63,200 126,121 63,800 63,700 63,700 63,000\n"
     ]
    }
   ],
   "source": [
    "my_stock = ['삼성전자', '카카오', '유한양행', 'NAVER', '쌍방울']\n",
    "my_stock_code = ['005930','035720', '000100', '035420', '102280']\n",
    "price = []\n",
    "trade = []\n",
    "pre = []\n",
    "market = []\n",
    "high = []\n",
    "low = []\n",
    "base_url = 'https://finance.naver.com/item/main.nhn?code='\n",
    "\n",
    "\n",
    "for idx, i in enumerate(my_stock_code) :\n",
    "    all_url = base_url + i\n",
    "    page = urlopen(chk_url)\n",
    "    soup = BeautifulSoup(page, 'lxml')\n",
    "    \n",
    "    # 현재가\n",
    "    temp_price = soup.find('p', {'class':'no_today'}).find('span', class_='blind').text\n",
    "    price.append(temp_price)\n",
    "    \n",
    "    # 거래량\n",
    "#     trade = soup.select_one('span.sp_txt9').parent.select_one('span.blind').text\n",
    "    temp_trade = soup.find('span', class_='sp_txt9').find_next('span', class_='blind').text\n",
    "    trade.append(temp_trade)\n",
    "    \n",
    "    # 전일\n",
    "    temp_pre = soup.find('span', class_='sp_txt2').find_next('span', class_='blind').text\n",
    "    pre.append(temp_pre)\n",
    "    \n",
    "    # 시가\n",
    "    temp_market = soup.find('span', class_='sp_txt3').find_next('span', class_='blind').text\n",
    "    market.append(temp_market)\n",
    "    \n",
    "    # 고가\n",
    "    temp_high = soup.find('span', class_='sp_txt4').find_next('span', class_='blind').text\n",
    "    high.append(temp_high)\n",
    "    \n",
    "    # 저가\n",
    "    temp_low = soup.find('span', class_='sp_txt5').find_next('span', class_='blind').text\n",
    "    low.append(temp_low)\n",
    "    \n",
    "    print(my_stock[idx], temp_price, temp_trade, temp_pre, temp_market, temp_high, temp_low)\n",
    "    "
   ]
  },
  {
   "cell_type": "code",
   "execution_count": 77,
   "metadata": {},
   "outputs": [
    {
     "data": {
      "text/html": [
       "<div>\n",
       "<style scoped>\n",
       "    .dataframe tbody tr th:only-of-type {\n",
       "        vertical-align: middle;\n",
       "    }\n",
       "\n",
       "    .dataframe tbody tr th {\n",
       "        vertical-align: top;\n",
       "    }\n",
       "\n",
       "    .dataframe thead th {\n",
       "        text-align: right;\n",
       "    }\n",
       "</style>\n",
       "<table border=\"1\" class=\"dataframe\">\n",
       "  <thead>\n",
       "    <tr style=\"text-align: right;\">\n",
       "      <th></th>\n",
       "      <th>my_stock</th>\n",
       "      <th>my_stock_code</th>\n",
       "      <th>price</th>\n",
       "      <th>trade</th>\n",
       "      <th>pre</th>\n",
       "      <th>market</th>\n",
       "      <th>high</th>\n",
       "      <th>low</th>\n",
       "    </tr>\n",
       "  </thead>\n",
       "  <tbody>\n",
       "    <tr>\n",
       "      <th>0</th>\n",
       "      <td>삼성전자</td>\n",
       "      <td>005930</td>\n",
       "      <td>63,200</td>\n",
       "      <td>124,857</td>\n",
       "      <td>63,800</td>\n",
       "      <td>63,700</td>\n",
       "      <td>63,700</td>\n",
       "      <td>63,000</td>\n",
       "    </tr>\n",
       "    <tr>\n",
       "      <th>1</th>\n",
       "      <td>카카오</td>\n",
       "      <td>035720</td>\n",
       "      <td>63,200</td>\n",
       "      <td>124,857</td>\n",
       "      <td>63,800</td>\n",
       "      <td>63,700</td>\n",
       "      <td>63,700</td>\n",
       "      <td>63,000</td>\n",
       "    </tr>\n",
       "    <tr>\n",
       "      <th>2</th>\n",
       "      <td>유한양행</td>\n",
       "      <td>000100</td>\n",
       "      <td>63,200</td>\n",
       "      <td>124,857</td>\n",
       "      <td>63,800</td>\n",
       "      <td>63,700</td>\n",
       "      <td>63,700</td>\n",
       "      <td>63,000</td>\n",
       "    </tr>\n",
       "    <tr>\n",
       "      <th>3</th>\n",
       "      <td>NAVER</td>\n",
       "      <td>035420</td>\n",
       "      <td>63,200</td>\n",
       "      <td>126,121</td>\n",
       "      <td>63,800</td>\n",
       "      <td>63,700</td>\n",
       "      <td>63,700</td>\n",
       "      <td>63,000</td>\n",
       "    </tr>\n",
       "    <tr>\n",
       "      <th>4</th>\n",
       "      <td>쌍방울</td>\n",
       "      <td>102280</td>\n",
       "      <td>63,200</td>\n",
       "      <td>126,121</td>\n",
       "      <td>63,800</td>\n",
       "      <td>63,700</td>\n",
       "      <td>63,700</td>\n",
       "      <td>63,000</td>\n",
       "    </tr>\n",
       "  </tbody>\n",
       "</table>\n",
       "</div>"
      ],
      "text/plain": [
       "  my_stock my_stock_code   price    trade     pre  market    high     low\n",
       "0     삼성전자        005930  63,200  124,857  63,800  63,700  63,700  63,000\n",
       "1      카카오        035720  63,200  124,857  63,800  63,700  63,700  63,000\n",
       "2     유한양행        000100  63,200  124,857  63,800  63,700  63,700  63,000\n",
       "3    NAVER        035420  63,200  126,121  63,800  63,700  63,700  63,000\n",
       "4      쌍방울        102280  63,200  126,121  63,800  63,700  63,700  63,000"
      ]
     },
     "execution_count": 77,
     "metadata": {},
     "output_type": "execute_result"
    }
   ],
   "source": [
    "dat_df = pd.DataFrame({'my_stock' : my_stock,\n",
    "                       'my_stock_code' : my_stock_code,\n",
    "                       'price' : price,\n",
    "                       'trade' : trade,\n",
    "                       'pre' : pre,\n",
    "                       'market' : market,\n",
    "                       'high' : high,\n",
    "                       'low' : low})\n",
    "dat_df"
   ]
  },
  {
   "cell_type": "code",
   "execution_count": null,
   "metadata": {},
   "outputs": [],
   "source": []
  }
 ],
 "metadata": {
  "kernelspec": {
   "display_name": "Python 3",
   "language": "python",
   "name": "python3"
  },
  "language_info": {
   "codemirror_mode": {
    "name": "ipython",
    "version": 3
   },
   "file_extension": ".py",
   "mimetype": "text/x-python",
   "name": "python",
   "nbconvert_exporter": "python",
   "pygments_lexer": "ipython3",
   "version": "3.7.3"
  }
 },
 "nbformat": 4,
 "nbformat_minor": 2
}
