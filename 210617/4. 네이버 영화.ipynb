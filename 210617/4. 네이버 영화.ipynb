{
 "cells": [
  {
   "cell_type": "code",
   "execution_count": 81,
   "metadata": {},
   "outputs": [],
   "source": [
    "import requests\n",
    "from bs4 import BeautifulSoup\n",
    "import pandas as pd\n",
    "import os"
   ]
  },
  {
   "cell_type": "code",
   "execution_count": 76,
   "metadata": {},
   "outputs": [],
   "source": [
    "# URL 페이지\n",
    "url = \"https://movie.naver.com/movie/running/current.nhn\"\n",
    "headers = {'User-Agent':'Mozilla/5.0 (Windows NT 10.0; Win64; x64) AppleWebKit/537.36 (KHTML, like Gecko) Chrome/91.0.4472.101 Safari/537.36'}\n",
    "\n",
    "page = requests.get(url, headers=headers).content\n",
    "soup = BeautifulSoup(page, 'lxml')"
   ]
  },
  {
   "cell_type": "code",
   "execution_count": 77,
   "metadata": {},
   "outputs": [],
   "source": [
    "# 상영영화 정보\n",
    "all_movie = soup.find_all('dl', class_='lst_dsc')\n",
    "# all_movie[0].find('dt', class_='tit_t2').find_next().find('a').text"
   ]
  },
  {
   "cell_type": "code",
   "execution_count": 78,
   "metadata": {},
   "outputs": [],
   "source": [
    "# 영화제목, 점수, 참여인원, 예매율, 감독 리스트 준비\n",
    "title = []\n",
    "score = []\n",
    "participant = []\n",
    "reservation = []\n",
    "director = []\n",
    "\n",
    "\n",
    "for i in all_movie :\n",
    "    # 제목\n",
    "    temp_title = i.find('dt', class_='tit').find('a').text\n",
    "    title.append(temp_title)\n",
    "    \n",
    "    # 점수\n",
    "    temp_score = i.find('div', class_='star_t1').find('span', class_='num').text\n",
    "    score.append(temp_score)\n",
    "    \n",
    "    # 참여인원\n",
    "    temp_participant = i.find('div', class_='star_t1').find('span', class_='num2').find('em').text\n",
    "    participant.append(temp_participant)\n",
    "    \n",
    "    # 예매율\n",
    "    # 예매율이 낮아서 없는경우 0으로 입력\n",
    "    try : \n",
    "        temp_reservation = i.find('div', class_='star_t1 b_star').find('span', class_='num').text\n",
    "    except :\n",
    "        temp_reservation = '0'\n",
    "    reservation.append(temp_reservation)\n",
    "    \n",
    "    # 참여인원\n",
    "    temp_director = i.find('dt', class_='tit_t2').find_next().find('a').text\n",
    "    director.append(temp_director)"
   ]
  },
  {
   "cell_type": "code",
   "execution_count": 79,
   "metadata": {},
   "outputs": [
    {
     "data": {
      "text/html": [
       "<div>\n",
       "<style scoped>\n",
       "    .dataframe tbody tr th:only-of-type {\n",
       "        vertical-align: middle;\n",
       "    }\n",
       "\n",
       "    .dataframe tbody tr th {\n",
       "        vertical-align: top;\n",
       "    }\n",
       "\n",
       "    .dataframe thead th {\n",
       "        text-align: right;\n",
       "    }\n",
       "</style>\n",
       "<table border=\"1\" class=\"dataframe\">\n",
       "  <thead>\n",
       "    <tr style=\"text-align: right;\">\n",
       "      <th></th>\n",
       "      <th>title</th>\n",
       "      <th>score</th>\n",
       "      <th>participant</th>\n",
       "      <th>reservation</th>\n",
       "      <th>director</th>\n",
       "    </tr>\n",
       "  </thead>\n",
       "  <tbody>\n",
       "    <tr>\n",
       "      <th>0</th>\n",
       "      <td>크루엘라</td>\n",
       "      <td>9.33</td>\n",
       "      <td>4,584</td>\n",
       "      <td>19.7</td>\n",
       "      <td>크레이그 질레스피</td>\n",
       "    </tr>\n",
       "    <tr>\n",
       "      <th>1</th>\n",
       "      <td>콰이어트 플레이스 2</td>\n",
       "      <td>8.64</td>\n",
       "      <td>316</td>\n",
       "      <td>15.92</td>\n",
       "      <td>존 크래신스키</td>\n",
       "    </tr>\n",
       "    <tr>\n",
       "      <th>2</th>\n",
       "      <td>루카</td>\n",
       "      <td>9.08</td>\n",
       "      <td>24</td>\n",
       "      <td>15.26</td>\n",
       "      <td>엔리코 카사로사</td>\n",
       "    </tr>\n",
       "    <tr>\n",
       "      <th>3</th>\n",
       "      <td>극장판 귀멸의 칼날: 무한열차편</td>\n",
       "      <td>9.29</td>\n",
       "      <td>12,374</td>\n",
       "      <td>7.52</td>\n",
       "      <td>소토자키 하루오</td>\n",
       "    </tr>\n",
       "    <tr>\n",
       "      <th>4</th>\n",
       "      <td>여고괴담 여섯번째 이야기 : 모교</td>\n",
       "      <td>6.31</td>\n",
       "      <td>45</td>\n",
       "      <td>6.59</td>\n",
       "      <td>이미영</td>\n",
       "    </tr>\n",
       "  </tbody>\n",
       "</table>\n",
       "</div>"
      ],
      "text/plain": [
       "                title score participant reservation   director\n",
       "0                크루엘라  9.33       4,584        19.7  크레이그 질레스피\n",
       "1         콰이어트 플레이스 2  8.64         316       15.92    존 크래신스키\n",
       "2                  루카  9.08          24       15.26   엔리코 카사로사\n",
       "3   극장판 귀멸의 칼날: 무한열차편  9.29      12,374        7.52   소토자키 하루오\n",
       "4  여고괴담 여섯번째 이야기 : 모교  6.31          45        6.59        이미영"
      ]
     },
     "execution_count": 79,
     "metadata": {},
     "output_type": "execute_result"
    }
   ],
   "source": [
    "# DataFrame 만들기\n",
    "movie_df = pd.DataFrame({'title' : title,\n",
    "                         'score' : score,\n",
    "                         'participant' : participant,\n",
    "                         'reservation' : reservation,\n",
    "                         'director' : director})\n",
    "\n",
    "# DataFrame 확인\n",
    "movie_df.head()"
   ]
  },
  {
   "cell_type": "code",
   "execution_count": 83,
   "metadata": {},
   "outputs": [
    {
     "data": {
      "text/plain": [
       "['.ipynb_checkpoints',\n",
       " '1. 네이버 금융 증권정보.ipynb',\n",
       " '2. 네이버 영화리뷰.ipynb',\n",
       " '3. 네이버 영화 리뷰 실습(기담).ipynb',\n",
       " '4. 네이버 영화.ipynb',\n",
       " 'data',\n",
       " '기담_리뷰_210617.csv',\n",
       " '네이버_영화정보_210617.csv',\n",
       " '스파이더맨리뷰_0617.csv']"
      ]
     },
     "execution_count": 83,
     "metadata": {},
     "output_type": "execute_result"
    }
   ],
   "source": [
    "# DataFrame CSV 파일로 출력\n",
    "file_name = '네이버_영화정보_210617.csv'\n",
    "movie_df.to_csv(file_name, index=False)\n",
    "\n",
    "# DataFrame 파일 저장 확인\n",
    "if file_name in os.listdir() :\n",
    "    print(f'{file_name} 저장 확인.')\n",
    "else : \n",
    "    print(f'{file_name} 파일이 없습니다.')"
   ]
  },
  {
   "cell_type": "code",
   "execution_count": null,
   "metadata": {},
   "outputs": [],
   "source": [
    "movie_grades = []\n",
    "for grade in grades:\n",
    "    movie_grade = grade.text\n",
    "    movie_grades.append(movie_grade)\n",
    "movie_grades"
   ]
  }
 ],
 "metadata": {
  "kernelspec": {
   "display_name": "Python 3",
   "language": "python",
   "name": "python3"
  },
  "language_info": {
   "codemirror_mode": {
    "name": "ipython",
    "version": 3
   },
   "file_extension": ".py",
   "mimetype": "text/x-python",
   "name": "python",
   "nbconvert_exporter": "python",
   "pygments_lexer": "ipython3",
   "version": "3.7.3"
  }
 },
 "nbformat": 4,
 "nbformat_minor": 2
}
